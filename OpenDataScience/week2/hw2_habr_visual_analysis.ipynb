{
 "cells": [
  {
   "cell_type": "markdown",
   "metadata": {},
   "source": [
    "<center>\n",
    "<img src=\"../../img/ods_stickers.jpg\">\n",
    "## Открытый курс по машинному обучению\n",
    "</center>\n",
    "Автор материала: Data Scientist в Segmento Екатерина Демидова"
   ]
  },
  {
   "cell_type": "markdown",
   "metadata": {},
   "source": [
    "# <center>Домашнее задание 2. <br> Визуальный анализ данных о публикациях на Хабрахабре</center>"
   ]
  },
  {
   "cell_type": "code",
   "execution_count": 1,
   "metadata": {
    "collapsed": true,
    "deletable": true,
    "editable": true
   },
   "outputs": [],
   "source": [
    "import warnings\n",
    "warnings.simplefilter('ignore')\n",
    "import pandas as pd\n",
    "\n",
    "%matplotlib inline\n",
    "import seaborn as sns\n",
    "import matplotlib.pyplot as plt"
   ]
  },
  {
   "cell_type": "markdown",
   "metadata": {
    "deletable": true,
    "editable": true
   },
   "source": [
    "## Загрузка и знакомство с данными\n",
    "\n",
    "Для работы вам понадобятся данные из нашего учебного конкурса на kaggle [«Прогноз популярности статьи на Хабре»](https://inclass.kaggle.com/c/howpop-habrahabr-favs-lognorm). Файл **`howpop_train.csv`** уже лежит в нашем репозитории в каталоге **`data`**, но его можно скачать и с Kaggle."
   ]
  },
  {
   "cell_type": "code",
   "execution_count": 2,
   "metadata": {
    "collapsed": false,
    "deletable": true,
    "editable": true
   },
   "outputs": [],
   "source": [
    "df = pd.read_csv('../../data/howpop_train.csv')"
   ]
  },
  {
   "cell_type": "code",
   "execution_count": 3,
   "metadata": {
    "collapsed": false,
    "deletable": true,
    "editable": true
   },
   "outputs": [
    {
     "data": {
      "text/plain": [
       "(134137, 17)"
      ]
     },
     "execution_count": 3,
     "metadata": {},
     "output_type": "execute_result"
    }
   ],
   "source": [
    "df.shape"
   ]
  },
  {
   "cell_type": "code",
   "execution_count": 4,
   "metadata": {
    "collapsed": false,
    "deletable": true,
    "editable": true
   },
   "outputs": [
    {
     "data": {
      "text/html": [
       "<div>\n",
       "<table border=\"1\" class=\"dataframe\">\n",
       "  <thead>\n",
       "    <tr style=\"text-align: right;\">\n",
       "      <th></th>\n",
       "      <th>0</th>\n",
       "      <th>1</th>\n",
       "      <th>2</th>\n",
       "    </tr>\n",
       "  </thead>\n",
       "  <tbody>\n",
       "    <tr>\n",
       "      <th>url</th>\n",
       "      <td>https://habrahabr.ru/post/18284/</td>\n",
       "      <td>https://habrahabr.ru/post/18285/</td>\n",
       "      <td>https://habrahabr.ru/post/18286/</td>\n",
       "    </tr>\n",
       "    <tr>\n",
       "      <th>domain</th>\n",
       "      <td>habrahabr.ru</td>\n",
       "      <td>habrahabr.ru</td>\n",
       "      <td>habrahabr.ru</td>\n",
       "    </tr>\n",
       "    <tr>\n",
       "      <th>post_id</th>\n",
       "      <td>18284</td>\n",
       "      <td>18285</td>\n",
       "      <td>18286</td>\n",
       "    </tr>\n",
       "    <tr>\n",
       "      <th>published</th>\n",
       "      <td>2008-01-01 18:19:00</td>\n",
       "      <td>2008-01-01 18:30:00</td>\n",
       "      <td>2008-01-01 18:34:00</td>\n",
       "    </tr>\n",
       "    <tr>\n",
       "      <th>author</th>\n",
       "      <td>@Tapac</td>\n",
       "      <td>@DezmASter</td>\n",
       "      <td>@DezmASter</td>\n",
       "    </tr>\n",
       "    <tr>\n",
       "      <th>flow</th>\n",
       "      <td>develop</td>\n",
       "      <td>design</td>\n",
       "      <td>design</td>\n",
       "    </tr>\n",
       "    <tr>\n",
       "      <th>polling</th>\n",
       "      <td>False</td>\n",
       "      <td>False</td>\n",
       "      <td>False</td>\n",
       "    </tr>\n",
       "    <tr>\n",
       "      <th>content_len</th>\n",
       "      <td>4305</td>\n",
       "      <td>7344</td>\n",
       "      <td>8431</td>\n",
       "    </tr>\n",
       "    <tr>\n",
       "      <th>title</th>\n",
       "      <td>Новогодний подарок блоггерам — WordPress 2.3.2</td>\n",
       "      <td>Сумасшедшие яйца, или сервис для отслеживания ...</td>\n",
       "      <td>Сумасшедшие яйца, или сервис для отслеживания ...</td>\n",
       "    </tr>\n",
       "    <tr>\n",
       "      <th>comments</th>\n",
       "      <td>0</td>\n",
       "      <td>1</td>\n",
       "      <td>47</td>\n",
       "    </tr>\n",
       "    <tr>\n",
       "      <th>favs</th>\n",
       "      <td>0</td>\n",
       "      <td>1</td>\n",
       "      <td>72</td>\n",
       "    </tr>\n",
       "    <tr>\n",
       "      <th>views</th>\n",
       "      <td>236</td>\n",
       "      <td>353</td>\n",
       "      <td>1200</td>\n",
       "    </tr>\n",
       "    <tr>\n",
       "      <th>votes_plus</th>\n",
       "      <td>0</td>\n",
       "      <td>1</td>\n",
       "      <td>45</td>\n",
       "    </tr>\n",
       "    <tr>\n",
       "      <th>votes_minus</th>\n",
       "      <td>0</td>\n",
       "      <td>0</td>\n",
       "      <td>5</td>\n",
       "    </tr>\n",
       "    <tr>\n",
       "      <th>views_lognorm</th>\n",
       "      <td>-0.792687</td>\n",
       "      <td>-0.485214</td>\n",
       "      <td>0.44609</td>\n",
       "    </tr>\n",
       "    <tr>\n",
       "      <th>favs_lognorm</th>\n",
       "      <td>-1.34407</td>\n",
       "      <td>-0.831946</td>\n",
       "      <td>1.79402</td>\n",
       "    </tr>\n",
       "    <tr>\n",
       "      <th>comments_lognorm</th>\n",
       "      <td>-2.43687</td>\n",
       "      <td>-1.87319</td>\n",
       "      <td>0.574656</td>\n",
       "    </tr>\n",
       "  </tbody>\n",
       "</table>\n",
       "</div>"
      ],
      "text/plain": [
       "                                                               0  \\\n",
       "url                             https://habrahabr.ru/post/18284/   \n",
       "domain                                              habrahabr.ru   \n",
       "post_id                                                    18284   \n",
       "published                                    2008-01-01 18:19:00   \n",
       "author                                                    @Tapac   \n",
       "flow                                                     develop   \n",
       "polling                                                    False   \n",
       "content_len                                                 4305   \n",
       "title             Новогодний подарок блоггерам — WordPress 2.3.2   \n",
       "comments                                                       0   \n",
       "favs                                                           0   \n",
       "views                                                        236   \n",
       "votes_plus                                                     0   \n",
       "votes_minus                                                    0   \n",
       "views_lognorm                                          -0.792687   \n",
       "favs_lognorm                                            -1.34407   \n",
       "comments_lognorm                                        -2.43687   \n",
       "\n",
       "                                                                  1  \\\n",
       "url                                https://habrahabr.ru/post/18285/   \n",
       "domain                                                 habrahabr.ru   \n",
       "post_id                                                       18285   \n",
       "published                                       2008-01-01 18:30:00   \n",
       "author                                                   @DezmASter   \n",
       "flow                                                         design   \n",
       "polling                                                       False   \n",
       "content_len                                                    7344   \n",
       "title             Сумасшедшие яйца, или сервис для отслеживания ...   \n",
       "comments                                                          1   \n",
       "favs                                                              1   \n",
       "views                                                           353   \n",
       "votes_plus                                                        1   \n",
       "votes_minus                                                       0   \n",
       "views_lognorm                                             -0.485214   \n",
       "favs_lognorm                                              -0.831946   \n",
       "comments_lognorm                                           -1.87319   \n",
       "\n",
       "                                                                  2  \n",
       "url                                https://habrahabr.ru/post/18286/  \n",
       "domain                                                 habrahabr.ru  \n",
       "post_id                                                       18286  \n",
       "published                                       2008-01-01 18:34:00  \n",
       "author                                                   @DezmASter  \n",
       "flow                                                         design  \n",
       "polling                                                       False  \n",
       "content_len                                                    8431  \n",
       "title             Сумасшедшие яйца, или сервис для отслеживания ...  \n",
       "comments                                                         47  \n",
       "favs                                                             72  \n",
       "views                                                          1200  \n",
       "votes_plus                                                       45  \n",
       "votes_minus                                                       5  \n",
       "views_lognorm                                               0.44609  \n",
       "favs_lognorm                                                1.79402  \n",
       "comments_lognorm                                           0.574656  "
      ]
     },
     "execution_count": 4,
     "metadata": {},
     "output_type": "execute_result"
    }
   ],
   "source": [
    "df.head(3).T"
   ]
  },
  {
   "cell_type": "markdown",
   "metadata": {},
   "source": [
    "Избавимся сразу от переменных, названия которых заканчиваются на `_lognorm` (нужны для соревнования на Kaggle). Выберем их с помощью `filter()` и удалим `drop`-ом:"
   ]
  },
  {
   "cell_type": "code",
   "execution_count": 5,
   "metadata": {
    "collapsed": true
   },
   "outputs": [],
   "source": [
    "df.drop(filter(lambda c: c.endswith('_lognorm'), df.columns), \n",
    "        axis = 1,       # axis = 1: столбцы \n",
    "        inplace = True) # избавляет от необходимости сохранять датасет"
   ]
  },
  {
   "cell_type": "code",
   "execution_count": 6,
   "metadata": {
    "collapsed": false,
    "scrolled": true
   },
   "outputs": [
    {
     "data": {
      "text/html": [
       "<div>\n",
       "<table border=\"1\" class=\"dataframe\">\n",
       "  <thead>\n",
       "    <tr style=\"text-align: right;\">\n",
       "      <th></th>\n",
       "      <th>count</th>\n",
       "      <th>mean</th>\n",
       "      <th>std</th>\n",
       "      <th>min</th>\n",
       "      <th>25%</th>\n",
       "      <th>50%</th>\n",
       "      <th>75%</th>\n",
       "      <th>max</th>\n",
       "    </tr>\n",
       "  </thead>\n",
       "  <tbody>\n",
       "    <tr>\n",
       "      <th>post_id</th>\n",
       "      <td>134137.0</td>\n",
       "      <td>181307.054265</td>\n",
       "      <td>81766.350702</td>\n",
       "      <td>18284.0</td>\n",
       "      <td>115565.0</td>\n",
       "      <td>182666.0</td>\n",
       "      <td>257401.0</td>\n",
       "      <td>314088.0</td>\n",
       "    </tr>\n",
       "    <tr>\n",
       "      <th>content_len</th>\n",
       "      <td>134137.0</td>\n",
       "      <td>7516.929699</td>\n",
       "      <td>8724.771640</td>\n",
       "      <td>1.0</td>\n",
       "      <td>2179.0</td>\n",
       "      <td>4949.0</td>\n",
       "      <td>9858.0</td>\n",
       "      <td>352471.0</td>\n",
       "    </tr>\n",
       "    <tr>\n",
       "      <th>comments</th>\n",
       "      <td>134137.0</td>\n",
       "      <td>39.625994</td>\n",
       "      <td>62.398958</td>\n",
       "      <td>0.0</td>\n",
       "      <td>7.0</td>\n",
       "      <td>19.0</td>\n",
       "      <td>48.0</td>\n",
       "      <td>2266.0</td>\n",
       "    </tr>\n",
       "    <tr>\n",
       "      <th>favs</th>\n",
       "      <td>134137.0</td>\n",
       "      <td>71.999866</td>\n",
       "      <td>145.854135</td>\n",
       "      <td>0.0</td>\n",
       "      <td>8.0</td>\n",
       "      <td>27.0</td>\n",
       "      <td>78.0</td>\n",
       "      <td>8718.0</td>\n",
       "    </tr>\n",
       "    <tr>\n",
       "      <th>views</th>\n",
       "      <td>134137.0</td>\n",
       "      <td>16631.013084</td>\n",
       "      <td>31479.819691</td>\n",
       "      <td>3.0</td>\n",
       "      <td>2100.0</td>\n",
       "      <td>7600.0</td>\n",
       "      <td>18700.0</td>\n",
       "      <td>1730000.0</td>\n",
       "    </tr>\n",
       "    <tr>\n",
       "      <th>votes_plus</th>\n",
       "      <td>133566.0</td>\n",
       "      <td>35.536888</td>\n",
       "      <td>42.461073</td>\n",
       "      <td>0.0</td>\n",
       "      <td>NaN</td>\n",
       "      <td>NaN</td>\n",
       "      <td>NaN</td>\n",
       "      <td>1466.0</td>\n",
       "    </tr>\n",
       "    <tr>\n",
       "      <th>votes_minus</th>\n",
       "      <td>133566.0</td>\n",
       "      <td>8.050035</td>\n",
       "      <td>11.398282</td>\n",
       "      <td>0.0</td>\n",
       "      <td>NaN</td>\n",
       "      <td>NaN</td>\n",
       "      <td>NaN</td>\n",
       "      <td>445.0</td>\n",
       "    </tr>\n",
       "  </tbody>\n",
       "</table>\n",
       "</div>"
      ],
      "text/plain": [
       "                count           mean           std      min       25%  \\\n",
       "post_id      134137.0  181307.054265  81766.350702  18284.0  115565.0   \n",
       "content_len  134137.0    7516.929699   8724.771640      1.0    2179.0   \n",
       "comments     134137.0      39.625994     62.398958      0.0       7.0   \n",
       "favs         134137.0      71.999866    145.854135      0.0       8.0   \n",
       "views        134137.0   16631.013084  31479.819691      3.0    2100.0   \n",
       "votes_plus   133566.0      35.536888     42.461073      0.0       NaN   \n",
       "votes_minus  133566.0       8.050035     11.398282      0.0       NaN   \n",
       "\n",
       "                  50%       75%        max  \n",
       "post_id      182666.0  257401.0   314088.0  \n",
       "content_len    4949.0    9858.0   352471.0  \n",
       "comments         19.0      48.0     2266.0  \n",
       "favs             27.0      78.0     8718.0  \n",
       "views          7600.0   18700.0  1730000.0  \n",
       "votes_plus        NaN       NaN     1466.0  \n",
       "votes_minus       NaN       NaN      445.0  "
      ]
     },
     "execution_count": 6,
     "metadata": {},
     "output_type": "execute_result"
    }
   ],
   "source": [
    "df.describe().T"
   ]
  },
  {
   "cell_type": "code",
   "execution_count": 7,
   "metadata": {
    "collapsed": false
   },
   "outputs": [
    {
     "data": {
      "text/html": [
       "<div>\n",
       "<table border=\"1\" class=\"dataframe\">\n",
       "  <thead>\n",
       "    <tr style=\"text-align: right;\">\n",
       "      <th></th>\n",
       "      <th>count</th>\n",
       "      <th>unique</th>\n",
       "      <th>top</th>\n",
       "      <th>freq</th>\n",
       "    </tr>\n",
       "  </thead>\n",
       "  <tbody>\n",
       "    <tr>\n",
       "      <th>url</th>\n",
       "      <td>134137</td>\n",
       "      <td>134137</td>\n",
       "      <td>https://habrahabr.ru/post/71835/</td>\n",
       "      <td>1</td>\n",
       "    </tr>\n",
       "    <tr>\n",
       "      <th>domain</th>\n",
       "      <td>134137</td>\n",
       "      <td>2</td>\n",
       "      <td>habrahabr.ru</td>\n",
       "      <td>97048</td>\n",
       "    </tr>\n",
       "    <tr>\n",
       "      <th>published</th>\n",
       "      <td>134137</td>\n",
       "      <td>130291</td>\n",
       "      <td>2011-06-14 15:52:00</td>\n",
       "      <td>39</td>\n",
       "    </tr>\n",
       "    <tr>\n",
       "      <th>author</th>\n",
       "      <td>97657</td>\n",
       "      <td>22077</td>\n",
       "      <td>@alizar</td>\n",
       "      <td>5292</td>\n",
       "    </tr>\n",
       "    <tr>\n",
       "      <th>flow</th>\n",
       "      <td>97048</td>\n",
       "      <td>6</td>\n",
       "      <td>develop</td>\n",
       "      <td>53318</td>\n",
       "    </tr>\n",
       "    <tr>\n",
       "      <th>polling</th>\n",
       "      <td>134137</td>\n",
       "      <td>2</td>\n",
       "      <td>False</td>\n",
       "      <td>129412</td>\n",
       "    </tr>\n",
       "    <tr>\n",
       "      <th>title</th>\n",
       "      <td>134137</td>\n",
       "      <td>133628</td>\n",
       "      <td>Интересные события, произошедшие в выходные</td>\n",
       "      <td>56</td>\n",
       "    </tr>\n",
       "  </tbody>\n",
       "</table>\n",
       "</div>"
      ],
      "text/plain": [
       "            count  unique                                          top    freq\n",
       "url        134137  134137             https://habrahabr.ru/post/71835/       1\n",
       "domain     134137       2                                 habrahabr.ru   97048\n",
       "published  134137  130291                          2011-06-14 15:52:00      39\n",
       "author      97657   22077                                      @alizar    5292\n",
       "flow        97048       6                                      develop   53318\n",
       "polling    134137       2                                        False  129412\n",
       "title      134137  133628  Интересные события, произошедшие в выходные      56"
      ]
     },
     "execution_count": 7,
     "metadata": {},
     "output_type": "execute_result"
    }
   ],
   "source": [
    "df.describe(include = ['object', 'bool'] # бинарные и категориальные переменные\n",
    "           ).T"
   ]
  },
  {
   "cell_type": "code",
   "execution_count": 8,
   "metadata": {
    "collapsed": false,
    "deletable": true,
    "editable": true
   },
   "outputs": [],
   "source": [
    "# настройка внешнего вида графиков в seaborn\n",
    "sns.set_style(\"dark\")\n",
    "sns.set_palette(\"RdBu\")\n",
    "sns.set_context(\"notebook\", font_scale = 1.5, \n",
    "                rc = { \"figure.figsize\" : (15, 5), \"axes.titlesize\" : 18 })"
   ]
  },
  {
   "cell_type": "markdown",
   "metadata": {
    "deletable": true,
    "editable": true
   },
   "source": [
    "Столбец **`published`** (время публикации) содержит строки. Чтобы мы могли работать с этими данными как с датой/временем публикации, приведём их к типу `datetime`:"
   ]
  },
  {
   "cell_type": "code",
   "execution_count": 9,
   "metadata": {
    "collapsed": false,
    "deletable": true,
    "editable": true
   },
   "outputs": [
    {
     "name": "stdout",
     "output_type": "stream",
     "text": [
      "object\n",
      "datetime64[ns]\n"
     ]
    }
   ],
   "source": [
    "print(df.published.dtype)\n",
    "df['published'] = pd.to_datetime(df.published, yearfirst = True)\n",
    "print(df.published.dtype)"
   ]
  },
  {
   "cell_type": "markdown",
   "metadata": {
    "deletable": true,
    "editable": true
   },
   "source": [
    "Создадим несколько столбцов на основе данных о времени публикации:"
   ]
  },
  {
   "cell_type": "code",
   "execution_count": 25,
   "metadata": {
    "collapsed": false,
    "deletable": true,
    "editable": true
   },
   "outputs": [],
   "source": [
    "df['year'] = [d.year for d in df.published]\n",
    "df['month'] = [d.month for d in df.published]\n",
    "df['dayOfMonth'] = [d.day for d in df.published]\n",
    "\n",
    "df['dayofweek'] = [d.isoweekday() for d in df.published]\n",
    "df['hour'] = [d.hour for d in df.published]"
   ]
  },
  {
   "cell_type": "markdown",
   "metadata": {
    "deletable": true,
    "editable": true
   },
   "source": [
    "-----\n",
    "Теперь Ваша очередь. В каждом пункте предлагается построить картинку и с ее помощью ответить на вопрос в [форме](https://docs.google.com/forms/d/e/1FAIpQLSf3b5OG8zX_nLQBQ-t20c6M5Auz-VUL-yxj8Fm9_o_XWDBTrg/viewform?c=0&w=1). Конечно, можно попытаться ответить на все вопросы только с Pandas, без картинок, но мы советуем Вам потренироваться строить (красивые) визуализации.   "
   ]
  },
  {
   "cell_type": "markdown",
   "metadata": {
    "collapsed": false,
    "deletable": true,
    "editable": true
   },
   "source": [
    "## 1\\. В каком месяце (и какого года) было больше всего публикаций?\n",
    "\n",
    "* март 2016,\n",
    "* март 2015,\n",
    "* апрель 2015,\n",
    "* апрель 2016."
   ]
  },
  {
   "cell_type": "code",
   "execution_count": 26,
   "metadata": {
    "collapsed": false
   },
   "outputs": [
    {
     "data": {
      "text/plain": [
       "year  month\n",
       "2008  1         435\n",
       "      2         496\n",
       "      3         545\n",
       "      4         597\n",
       "      6         599\n",
       "      5         635\n",
       "      11        661\n",
       "      7         674\n",
       "      8         677\n",
       "      10        712\n",
       "2009  6         733\n",
       "      5         755\n",
       "      1         797\n",
       "2008  12        798\n",
       "2009  2         812\n",
       "      4         840\n",
       "      3         890\n",
       "      7         891\n",
       "2008  9         914\n",
       "2009  9         955\n",
       "      8         956\n",
       "2010  11        990\n",
       "      1        1010\n",
       "      5        1012\n",
       "2009  10       1021\n",
       "2010  8        1029\n",
       "2009  12       1049\n",
       "2010  12       1055\n",
       "      4        1068\n",
       "2011  2        1072\n",
       "               ... \n",
       "2014  9        1408\n",
       "2012  3        1416\n",
       "      10       1421\n",
       "      11       1435\n",
       "2011  6        1439\n",
       "2013  11       1452\n",
       "      10       1456\n",
       "2014  11       1462\n",
       "2016  9        1482\n",
       "      10       1493\n",
       "      6        1498\n",
       "2015  1        1504\n",
       "2014  10       1595\n",
       "      12       1694\n",
       "2016  1        1717\n",
       "      5        1726\n",
       "2015  2        1793\n",
       "      5        1799\n",
       "2016  2        1819\n",
       "2015  8        1849\n",
       "2016  4        1910\n",
       "2015  9        1944\n",
       "      6        2004\n",
       "      10       2030\n",
       "      11       2035\n",
       "      12       2084\n",
       "      4        2110\n",
       "      7        2111\n",
       "2016  3        2115\n",
       "2015  3        2189\n",
       "dtype: int64"
      ]
     },
     "execution_count": 26,
     "metadata": {},
     "output_type": "execute_result"
    }
   ],
   "source": [
    "df.head(3).T\n",
    "df.groupby(['year', 'month']).size().sort_values()"
   ]
  },
  {
   "cell_type": "markdown",
   "metadata": {},
   "source": [
    "## 2\\. Проанализируйте публикации в этом месяце\n",
    "\n",
    "Выберите один или несколько вариантов:\n",
    "\n",
    "* На графике не заметны какие-либо выбросы или аномалии,\n",
    "* Один или несколько дней сильно выделяются из общей картины,\n",
    "* На хабре _всегда_ больше статей, чем на гиктаймсе,\n",
    "* По субботам на гиктаймс и на хабрахабр публикуют примерно одинаковое число статей.\n",
    "\n",
    "Подсказки: постройте график зависимости числа публикаций от дня; используйте параметр `hue`; не заморачивайтесь сильно с ответами и не ищите скрытого смысла :)"
   ]
  },
  {
   "cell_type": "code",
   "execution_count": 31,
   "metadata": {
    "collapsed": false
   },
   "outputs": [
    {
     "data": {
      "text/plain": [
       "<matplotlib.axes._subplots.AxesSubplot at 0x7faef67fbf98>"
      ]
     },
     "execution_count": 31,
     "metadata": {},
     "output_type": "execute_result"
    },
    {
     "data": {
      "image/png": "[encoded data removed]",
      "text/plain": [
       "<matplotlib.figure.Figure at 0x7faef67d1080>"
      ]
     },
     "metadata": {},
     "output_type": "display_data"
    }
   ],
   "source": [
    "# 1 пункт да\n",
    "df[(df['year'] == 2015) & (df['month'] == 3)].groupby('dayOfMonth').size().plot()"
   ]
  },
  {
   "cell_type": "code",
   "execution_count": 43,
   "metadata": {
    "collapsed": false
   },
   "outputs": [
    {
     "data": {
      "text/plain": [
       "dayOfMonth\n",
       "1      32\n",
       "2      98\n",
       "3      94\n",
       "4      98\n",
       "5      72\n",
       "6      71\n",
       "7      31\n",
       "8      26\n",
       "9      42\n",
       "10     98\n",
       "11     92\n",
       "12     99\n",
       "13     78\n",
       "14     30\n",
       "15     30\n",
       "16     99\n",
       "17    107\n",
       "18     80\n",
       "19     88\n",
       "20     74\n",
       "21     22\n",
       "22     30\n",
       "23     78\n",
       "24     86\n",
       "25     92\n",
       "26     89\n",
       "27     92\n",
       "28     32\n",
       "29     38\n",
       "30     79\n",
       "31    112\n",
       "dtype: int64"
      ]
     },
     "execution_count": 43,
     "metadata": {},
     "output_type": "execute_result"
    }
   ],
   "source": [
    "# 2 пункт нет\n",
    "df[(df['year'] == 2015) & (df['month'] == 3)].groupby(['dayOfMonth']).size()"
   ]
  },
  {
   "cell_type": "code",
   "execution_count": 130,
   "metadata": {
    "collapsed": false
   },
   "outputs": [
    {
     "data": {
      "text/plain": [
       "dayOfMonth  domain      \n",
       "7           geektimes.ru    11\n",
       "            habrahabr.ru    20\n",
       "14          geektimes.ru    17\n",
       "            habrahabr.ru    13\n",
       "21          geektimes.ru    14\n",
       "            habrahabr.ru     8\n",
       "28          geektimes.ru    15\n",
       "            habrahabr.ru    17\n",
       "dtype: int64"
      ]
     },
     "execution_count": 130,
     "metadata": {},
     "output_type": "execute_result"
    }
   ],
   "source": [
    "# 4 пункт нет\n",
    "\n",
    "df[(df['year'] == 2015) & (df['month'] == 3) & (df['dayofweek'] == 6)].groupby(['dayOfMonth', 'domain']).size()"
   ]
  },
  {
   "cell_type": "code",
   "execution_count": 55,
   "metadata": {
    "collapsed": false
   },
   "outputs": [
    {
     "data": {
      "text/plain": [
       "dayOfMonth  domain      \n",
       "1           geektimes.ru     6\n",
       "            habrahabr.ru    26\n",
       "2           geektimes.ru    25\n",
       "            habrahabr.ru    73\n",
       "3           geektimes.ru    29\n",
       "            habrahabr.ru    65\n",
       "4           geektimes.ru    37\n",
       "            habrahabr.ru    61\n",
       "5           geektimes.ru    31\n",
       "            habrahabr.ru    41\n",
       "6           geektimes.ru    21\n",
       "            habrahabr.ru    50\n",
       "7           geektimes.ru    11\n",
       "            habrahabr.ru    20\n",
       "8           geektimes.ru     8\n",
       "            habrahabr.ru    18\n",
       "9           geektimes.ru    18\n",
       "            habrahabr.ru    24\n",
       "10          geektimes.ru    29\n",
       "            habrahabr.ru    69\n",
       "11          geektimes.ru    26\n",
       "            habrahabr.ru    66\n",
       "12          geektimes.ru    30\n",
       "            habrahabr.ru    69\n",
       "13          geektimes.ru    24\n",
       "            habrahabr.ru    54\n",
       "14          geektimes.ru    17\n",
       "            habrahabr.ru    13\n",
       "15          geektimes.ru    11\n",
       "            habrahabr.ru    19\n",
       "                            ..\n",
       "17          geektimes.ru    38\n",
       "            habrahabr.ru    69\n",
       "18          geektimes.ru    29\n",
       "            habrahabr.ru    51\n",
       "19          geektimes.ru    29\n",
       "            habrahabr.ru    59\n",
       "20          geektimes.ru    28\n",
       "            habrahabr.ru    46\n",
       "21          geektimes.ru    14\n",
       "            habrahabr.ru     8\n",
       "22          geektimes.ru    12\n",
       "            habrahabr.ru    18\n",
       "23          geektimes.ru    27\n",
       "            habrahabr.ru    51\n",
       "24          geektimes.ru    33\n",
       "            habrahabr.ru    53\n",
       "25          geektimes.ru    32\n",
       "            habrahabr.ru    60\n",
       "26          geektimes.ru    26\n",
       "            habrahabr.ru    63\n",
       "27          geektimes.ru    34\n",
       "            habrahabr.ru    58\n",
       "28          geektimes.ru    15\n",
       "            habrahabr.ru    17\n",
       "29          geektimes.ru    15\n",
       "            habrahabr.ru    23\n",
       "30          geektimes.ru    27\n",
       "            habrahabr.ru    52\n",
       "31          geektimes.ru    41\n",
       "            habrahabr.ru    71\n",
       "dtype: int64"
      ]
     },
     "execution_count": 55,
     "metadata": {},
     "output_type": "execute_result"
    }
   ],
   "source": [
    "# 3 пункт (нет 14 день, 21 день)\n",
    "df[(df['year'] == 2015) & (df['month'] == 3)].groupby(['dayOfMonth', 'domain']).size()"
   ]
  },
  {
   "cell_type": "markdown",
   "metadata": {},
   "source": [
    "## 3\\. Когда лучше всего публиковать статью?\n",
    "\n",
    "* Больше всего просмотров набирают статьи, опубликованные в 12 часов дня;\n",
    "* У опубликованных в 10 утра постов больше всего комментариев;\n",
    "* Больше всего просмотров набирают статьи, опубликованные в 6 часов утра;\n",
    "* Максимальное число комментариев на гиктаймсе набрала статья, опубликованная в 9 часов вечера;\n",
    "* На хабре дневные статьи комментируют чаще, чем вечерние."
   ]
  },
  {
   "cell_type": "code",
   "execution_count": 128,
   "metadata": {
    "collapsed": false
   },
   "outputs": [
    {
     "data": {
      "text/plain": [
       "hour\n",
       "0     17546.982349\n",
       "1     17717.709114\n",
       "2     17328.690581\n",
       "3     18370.017972\n",
       "4     20678.389091\n",
       "5     17218.894242\n",
       "6     21354.310115\n",
       "7     19093.953408\n",
       "8     16014.419048\n",
       "9     16906.059099\n",
       "10    16580.889909\n",
       "11    16331.186818\n",
       "12    16209.416141\n",
       "13    15822.606055\n",
       "14    15773.203785\n",
       "15    14739.224017\n",
       "16    16583.150731\n",
       "17    15814.881313\n",
       "18    16731.210843\n",
       "19    16926.284287\n",
       "20    18134.614873\n",
       "21    17605.819064\n",
       "22    18365.387460\n",
       "23    17631.345932\n",
       "Name: views, dtype: float64"
      ]
     },
     "execution_count": 128,
     "metadata": {},
     "output_type": "execute_result"
    }
   ],
   "source": [
    "# 1 нет\n",
    "#df.groupby('hour')['views'].mean()\n",
    "\n",
    "# 2 нет\n",
    "#df.groupby('hour')['comments'].mean()\n",
    "\n",
    "# 3 да\n",
    "#df.groupby('hour')['views'].mean()\n",
    "\n",
    "# 4 нет\n",
    "#df.groupby('hour')['comments'].max()\n",
    "\n",
    "# 5 нет\n",
    "#df.groupby('hour')['comments'].mean()"
   ]
  },
  {
   "cell_type": "markdown",
   "metadata": {},
   "source": [
    "## 4\\. Кого из топ-20 авторов чаще всего минусуют?\n",
    "\n",
    "* @Mordatyj\n",
    "* @Mithgol\n",
    "* @alizar\n",
    "* @ilya42"
   ]
  },
  {
   "cell_type": "code",
   "execution_count": 89,
   "metadata": {
    "collapsed": false
   },
   "outputs": [
    {
     "name": "stdout",
     "output_type": "stream",
     "text": [
      "4057.0\n",
      "11367.0\n",
      "41734.0\n",
      "3183.0\n"
     ]
    }
   ],
   "source": [
    "# alizar\n",
    "\n",
    "#df.groupby('author')['votes_minus'].sum()\n",
    "authors = df.groupby('author').size().to_dict()\n",
    "\n",
    "#print(authors['@Mordatyj'])\n",
    "#print(authors['@Mithgol'])\n",
    "#print(authors['@alizar'])\n",
    "#print(authors['@ilya42'])\n",
    "#sorted(authors.items(), key=lambda x: x[1])[-20:]\n",
    "\n",
    "# они все в топ-20\n",
    "print(df.groupby('author')['votes_minus'].sum()['@Mordatyj'])\n",
    "print(df.groupby('author')['votes_minus'].sum()['@Mithgol'])\n",
    "print(df.groupby('author')['votes_minus'].sum()['@alizar'])\n",
    "print(df.groupby('author')['votes_minus'].sum()['@ilya42'])"
   ]
  },
  {
   "cell_type": "markdown",
   "metadata": {
    "deletable": true,
    "editable": true
   },
   "source": [
    "## 5\\. Сравните субботы и понедельники\n",
    "\n",
    "Правда ли, что по субботам авторы пишут в основном днём, а по понедельникам — в основном вечером?"
   ]
  },
  {
   "cell_type": "code",
   "execution_count": 102,
   "metadata": {
    "collapsed": false,
    "deletable": true,
    "editable": true
   },
   "outputs": [
    {
     "data": {
      "text/plain": [
       "dayofweek       \n",
       "1          count    23636.000000\n",
       "           mean        13.767939\n",
       "           std          5.235694\n",
       "           min          0.000000\n",
       "           50%         14.000000\n",
       "           max         23.000000\n",
       "2          count    24575.000000\n",
       "           mean        13.553652\n",
       "           std          5.295366\n",
       "           min          0.000000\n",
       "           50%         14.000000\n",
       "           max         23.000000\n",
       "3          count    23660.000000\n",
       "           mean        13.525232\n",
       "           std          5.413304\n",
       "           min          0.000000\n",
       "           50%         14.000000\n",
       "           max         23.000000\n",
       "4          count    23082.000000\n",
       "           mean        13.583832\n",
       "           std          5.398140\n",
       "           min          0.000000\n",
       "           50%         14.000000\n",
       "           max         23.000000\n",
       "5          count    21292.000000\n",
       "           mean        13.302320\n",
       "           std          5.331644\n",
       "           min          0.000000\n",
       "           50%         14.000000\n",
       "           max         23.000000\n",
       "6          count     8380.000000\n",
       "           mean        13.522912\n",
       "           std          6.893133\n",
       "           min          0.000000\n",
       "           50%         15.000000\n",
       "           max         23.000000\n",
       "7          count     9512.000000\n",
       "           mean        14.465307\n",
       "           std          6.567817\n",
       "           min          0.000000\n",
       "           50%         16.000000\n",
       "           max         23.000000\n",
       "Name: hour, dtype: float64"
      ]
     },
     "execution_count": 102,
     "metadata": {},
     "output_type": "execute_result"
    }
   ],
   "source": [
    "# нет \n",
    "\n",
    "df.groupby('dayofweek')['hour'].describe(percentiles=[])\n",
    "#df.groupby(['dayofweek', 'hour']).size()"
   ]
  },
  {
   "cell_type": "code",
   "execution_count": null,
   "metadata": {
    "collapsed": true
   },
   "outputs": [],
   "source": []
  }
 ],
 "metadata": {
  "anaconda-cloud": {},
  "kernelspec": {
   "display_name": "Python 3",
   "language": "python",
   "name": "python3"
  },
  "language_info": {
   "codemirror_mode": {
    "name": "ipython",
    "version": 3
   },
   "file_extension": ".py",
   "mimetype": "text/x-python",
   "name": "python",
   "nbconvert_exporter": "python",
   "pygments_lexer": "ipython3",
   "version": "3.5.2"
  }
 },
 "nbformat": 4,
 "nbformat_minor": 0
}
